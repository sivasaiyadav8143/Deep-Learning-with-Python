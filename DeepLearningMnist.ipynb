{
  "nbformat": 4,
  "nbformat_minor": 0,
  "metadata": {
    "colab": {
      "name": "DeepLearningMnist.ipynb",
      "provenance": [],
      "include_colab_link": true
    },
    "kernelspec": {
      "display_name": "Python 3",
      "language": "python",
      "name": "python3"
    },
    "language_info": {
      "codemirror_mode": {
        "name": "ipython",
        "version": 3
      },
      "file_extension": ".py",
      "mimetype": "text/x-python",
      "name": "python",
      "nbconvert_exporter": "python",
      "pygments_lexer": "ipython3",
      "version": "3.7.4"
    }
  },
  "cells": [
    {
      "cell_type": "markdown",
      "metadata": {
        "id": "view-in-github",
        "colab_type": "text"
      },
      "source": [
        "<a href=\"https://colab.research.google.com/github/sivasaiyadav8143/Deep-Learning-with-Python/blob/main/DeepLearningMnist.ipynb\" target=\"_parent\"><img src=\"https://colab.research.google.com/assets/colab-badge.svg\" alt=\"Open In Colab\"/></a>"
      ]
    },
    {
      "cell_type": "code",
      "metadata": {
        "id": "vA5_mIo78Afu"
      },
      "source": [
        "import numpy as np\n",
        "import pandas as pd\n",
        "from sklearn import metrics\n",
        "import matplotlib.pyplot as plt\n",
        "%matplotlib inline\n",
        "\n",
        "\n",
        "\n",
        "# Using Tensorflow Keras instead of the original Keras\n",
        "\n",
        "from tensorflow.keras.datasets import mnist\n",
        "from tensorflow.keras import Sequential\n",
        "from tensorflow.keras.layers import Dense\n",
        "\n",
        "\n",
        "# for functional api based modeling\n",
        "\n",
        "from tensorflow.keras.models import Model\n",
        "from tensorflow.keras.layers import Input\n",
        "from tensorflow.keras.layers import Dense"
      ],
      "execution_count": null,
      "outputs": []
    },
    {
      "cell_type": "code",
      "metadata": {
        "id": "tEKugk2a8Afy"
      },
      "source": [
        "(xtrain,ytrain),(xtest,ytest)=mnist.load_data()"
      ],
      "execution_count": null,
      "outputs": []
    },
    {
      "cell_type": "code",
      "metadata": {
        "id": "kwGbI1p18Af0",
        "outputId": "cb47c15e-adcc-441c-f5aa-7252b6cd0072",
        "colab": {
          "base_uri": "https://localhost:8080/",
          "height": 34
        }
      },
      "source": [
        "xtrain.shape"
      ],
      "execution_count": null,
      "outputs": [
        {
          "output_type": "execute_result",
          "data": {
            "text/plain": [
              "(60000, 28, 28)"
            ]
          },
          "metadata": {
            "tags": []
          },
          "execution_count": 76
        }
      ]
    },
    {
      "cell_type": "code",
      "metadata": {
        "id": "hT3TVhgF8Af3",
        "outputId": "ae54b4f0-3d2b-4b6d-b965-7bd7ab67901c"
      },
      "source": [
        "plt.imshow(xtrain[1,:,:],cmap='gray')"
      ],
      "execution_count": null,
      "outputs": [
        {
          "output_type": "execute_result",
          "data": {
            "text/plain": [
              "<matplotlib.image.AxesImage at 0x1e45b1a9e08>"
            ]
          },
          "metadata": {
            "tags": []
          },
          "execution_count": 77
        },
        {
          "output_type": "display_data",
          "data": {
            "image/png": "[encoded data removed]",
            "text/plain": [
              "<Figure size 432x288 with 1 Axes>"
            ]
          },
          "metadata": {
            "tags": [],
            "needs_background": "light"
          }
        }
      ]
    },
    {
      "cell_type": "code",
      "metadata": {
        "id": "OGFV6ECu8Af5",
        "outputId": "444c723b-941c-4022-f844-bf0dba5c5df8"
      },
      "source": [
        "ytrain[1]"
      ],
      "execution_count": null,
      "outputs": [
        {
          "output_type": "execute_result",
          "data": {
            "text/plain": [
              "0"
            ]
          },
          "metadata": {
            "tags": []
          },
          "execution_count": 78
        }
      ]
    },
    {
      "cell_type": "code",
      "metadata": {
        "id": "J3RndLvO8Af8",
        "outputId": "f17546ed-c00f-475f-b170-31468e63981f"
      },
      "source": [
        "plt.imshow(xtest[0,:,:],cmap='gray')"
      ],
      "execution_count": null,
      "outputs": [
        {
          "output_type": "execute_result",
          "data": {
            "text/plain": [
              "<matplotlib.image.AxesImage at 0x1e4013c4488>"
            ]
          },
          "metadata": {
            "tags": []
          },
          "execution_count": 79
        },
        {
          "output_type": "display_data",
          "data": {
            "image/png": "[encoded data removed]",
            "text/plain": [
              "<Figure size 432x288 with 1 Axes>"
            ]
          },
          "metadata": {
            "tags": [],
            "needs_background": "light"
          }
        }
      ]
    },
    {
      "cell_type": "code",
      "metadata": {
        "id": "rWKzG0Uz8Af-",
        "outputId": "8f215039-f335-453c-9204-90700ce46dd1"
      },
      "source": [
        "ytrain[:50]"
      ],
      "execution_count": null,
      "outputs": [
        {
          "output_type": "execute_result",
          "data": {
            "text/plain": [
              "array([5, 0, 4, 1, 9, 2, 1, 3, 1, 4, 3, 5, 3, 6, 1, 7, 2, 8, 6, 9, 4, 0,\n",
              "       9, 1, 1, 2, 4, 3, 2, 7, 3, 8, 6, 9, 0, 5, 6, 0, 7, 6, 1, 8, 7, 9,\n",
              "       3, 9, 8, 5, 9, 3], dtype=uint8)"
            ]
          },
          "metadata": {
            "tags": []
          },
          "execution_count": 80
        }
      ]
    },
    {
      "cell_type": "code",
      "metadata": {
        "id": "eUlVvVev8AgA",
        "outputId": "4c1dcd9f-522e-43b5-b2be-a0d7ae436908",
        "colab": {
          "base_uri": "https://localhost:8080/",
          "height": 202
        }
      },
      "source": [
        "L=pd.DataFrame(ytrain)\n",
        "L[0].value_counts()"
      ],
      "execution_count": null,
      "outputs": [
        {
          "output_type": "execute_result",
          "data": {
            "text/plain": [
              "1    6742\n",
              "7    6265\n",
              "3    6131\n",
              "2    5958\n",
              "9    5949\n",
              "0    5923\n",
              "6    5918\n",
              "8    5851\n",
              "4    5842\n",
              "5    5421\n",
              "Name: 0, dtype: int64"
            ]
          },
          "metadata": {
            "tags": []
          },
          "execution_count": 81
        }
      ]
    },
    {
      "cell_type": "code",
      "metadata": {
        "id": "WQYuYZGd8AgD"
      },
      "source": [
        "#Represent Training & Testing samples suitable for #tensorflow backend\n",
        "x_train=xtrain.reshape(xtrain.shape[0],784).astype('float32')\n",
        "x_test=xtest.reshape(xtest.shape[0],784).astype('float32')\n"
      ],
      "execution_count": null,
      "outputs": []
    },
    {
      "cell_type": "code",
      "metadata": {
        "id": "v1QWQjmZ8AgF",
        "outputId": "534ed810-19bf-47d8-8065-b89bb940deda",
        "colab": {
          "base_uri": "https://localhost:8080/",
          "height": 34
        }
      },
      "source": [
        "x_test.shape"
      ],
      "execution_count": null,
      "outputs": [
        {
          "output_type": "execute_result",
          "data": {
            "text/plain": [
              "(10000, 784)"
            ]
          },
          "metadata": {
            "tags": []
          },
          "execution_count": 83
        }
      ]
    },
    {
      "cell_type": "code",
      "metadata": {
        "id": "5qajCj7-8AgH"
      },
      "source": [
        "x_train/=255\n",
        "x_test/=255"
      ],
      "execution_count": null,
      "outputs": []
    },
    {
      "cell_type": "code",
      "metadata": {
        "id": "mZnZ2Dq78AgL"
      },
      "source": [
        "from tensorflow import keras\n",
        "\n",
        "y_train = keras.utils.to_categorical(ytrain, 10)\n",
        "y_test = keras.utils.to_categorical(ytest, 10)"
      ],
      "execution_count": null,
      "outputs": []
    },
    {
      "cell_type": "code",
      "metadata": {
        "id": "TPpy3hpM8AgO"
      },
      "source": [
        "# Initialize the constructor\n",
        "\n",
        "model = Sequential()"
      ],
      "execution_count": null,
      "outputs": []
    },
    {
      "cell_type": "code",
      "metadata": {
        "id": "19kdw8qz8AgV"
      },
      "source": [
        "# Define model architecture\n",
        "\n",
        "model.add(Dense(784,activation='relu'))\n",
        "model.add(Dense(100, activation ='relu'))\n",
        "model.add(Dense(10,activation='softmax'))"
      ],
      "execution_count": null,
      "outputs": []
    },
    {
      "cell_type": "code",
      "metadata": {
        "id": "MKKOQijJ8AgY"
      },
      "source": [
        "model.compile(loss='categorical_crossentropy',optimizer='adam', metrics=['accuracy'])"
      ],
      "execution_count": null,
      "outputs": []
    },
    {
      "cell_type": "code",
      "metadata": {
        "id": "7jWMYY138Aga",
        "outputId": "ad385468-4884-4de4-a1f3-c63dbbdfaabd",
        "colab": {
          "base_uri": "https://localhost:8080/",
          "height": 487
        }
      },
      "source": [
        "history = model.fit(x_train, y_train, epochs=10, batch_size=512, validation_split=.3, verbose=1)"
      ],
      "execution_count": null,
      "outputs": [
        {
          "output_type": "stream",
          "text": [
            "Train on 42000 samples, validate on 18000 samples\n",
            "Epoch 1/10\n",
            "42000/42000 [==============================] - 2s 50us/sample - loss: 0.4053 - accuracy: 0.8887 - val_loss: 0.2047 - val_accuracy: 0.9416\n",
            "Epoch 2/10\n",
            "42000/42000 [==============================] - 2s 43us/sample - loss: 0.1486 - accuracy: 0.9562 - val_loss: 0.1393 - val_accuracy: 0.9591\n",
            "Epoch 3/10\n",
            "42000/42000 [==============================] - 2s 42us/sample - loss: 0.0956 - accuracy: 0.9730 - val_loss: 0.1261 - val_accuracy: 0.9639\n",
            "Epoch 4/10\n",
            "42000/42000 [==============================] - 2s 42us/sample - loss: 0.0679 - accuracy: 0.9805 - val_loss: 0.1060 - val_accuracy: 0.9699\n",
            "Epoch 5/10\n",
            "42000/42000 [==============================] - 2s 42us/sample - loss: 0.0493 - accuracy: 0.9859 - val_loss: 0.1005 - val_accuracy: 0.9704\n",
            "Epoch 6/10\n",
            "42000/42000 [==============================] - 2s 42us/sample - loss: 0.0416 - accuracy: 0.9880 - val_loss: 0.1001 - val_accuracy: 0.9698\n",
            "Epoch 7/10\n",
            "42000/42000 [==============================] - 2s 43us/sample - loss: 0.0413 - accuracy: 0.9876 - val_loss: 0.0906 - val_accuracy: 0.9738\n",
            "Epoch 8/10\n",
            "42000/42000 [==============================] - 2s 44us/sample - loss: 0.0236 - accuracy: 0.9938 - val_loss: 0.0905 - val_accuracy: 0.9745\n",
            "Epoch 9/10\n",
            "42000/42000 [==============================] - 2s 45us/sample - loss: 0.0188 - accuracy: 0.9956 - val_loss: 0.0925 - val_accuracy: 0.9738\n",
            "Epoch 10/10\n",
            "42000/42000 [==============================] - 2s 46us/sample - loss: 0.0147 - accuracy: 0.9964 - val_loss: 0.0877 - val_accuracy: 0.9754\n"
          ],
          "name": "stdout"
        }
      ]
    },
    {
      "cell_type": "code",
      "metadata": {
        "id": "IdSLsCjYFGaE",
        "outputId": "d26c5522-17bf-4577-ea8d-68226504d190"
      },
      "source": [
        "plt.plot(history.history['accuracy'])\n",
        "plt.plot(history.history['val_accuracy'])\n",
        "plt.plot(history.history['loss'])\n",
        "plt.title('model accuracy')\n",
        "plt.ylabel('accuracy / loss')\n",
        "plt.xlabel('epoch')\n",
        "plt.legend(['training', 'validation'], loc='best')\n",
        "plt.show()\n"
      ],
      "execution_count": null,
      "outputs": [
        {
          "output_type": "display_data",
          "data": {
            "image/png": "[encoded data removed]",
            "text/plain": [
              "<Figure size 432x288 with 1 Axes>"
            ]
          },
          "metadata": {
            "tags": [],
            "needs_background": "light"
          }
        }
      ]
    },
    {
      "cell_type": "code",
      "metadata": {
        "id": "eooLx3Mp8Agd",
        "outputId": "051d5b96-e533-46b5-da73-496fda4bc2e9",
        "colab": {
          "base_uri": "https://localhost:8080/",
          "height": 34
        }
      },
      "source": [
        "loss, acc = model.evaluate(x_test, y_test, verbose=0)\n",
        "print('Accuracy: %.3f'  % acc)\n",
        "print('Loss: %.3f' % loss)"
      ],
      "execution_count": null,
      "outputs": [
        {
          "output_type": "stream",
          "text": [
            "Accuracy: 0.979\n",
            "Loss: 0.067\n"
          ],
          "name": "stdout"
        }
      ]
    },
    {
      "cell_type": "code",
      "metadata": {
        "id": "yMANVqX58Agj"
      },
      "source": [
        "y_predict = model.predict(x_test)"
      ],
      "execution_count": null,
      "outputs": []
    },
    {
      "cell_type": "code",
      "metadata": {
        "id": "yOgumyig8Agm",
        "outputId": "5431ee93-eee8-4d26-e7c9-3dc651ba8dff",
        "colab": {
          "base_uri": "https://localhost:8080/",
          "height": 67
        }
      },
      "source": [
        "y_predict[0]"
      ],
      "execution_count": null,
      "outputs": [
        {
          "output_type": "execute_result",
          "data": {
            "text/plain": [
              "array([1.3749526e-07, 1.4818089e-07, 2.5936920e-06, 2.9427558e-05,\n",
              "       1.5401396e-09, 2.5186750e-08, 1.3855177e-10, 9.9996424e-01,\n",
              "       1.5439882e-07, 3.3092745e-06], dtype=float32)"
            ]
          },
          "metadata": {
            "tags": []
          },
          "execution_count": 93
        }
      ]
    },
    {
      "cell_type": "code",
      "metadata": {
        "id": "lbbqEylx8Agp",
        "outputId": "1d5c529a-a81d-48af-e86f-f24b3866fc43"
      },
      "source": [
        "np.argmax(y_predict[0])"
      ],
      "execution_count": null,
      "outputs": [
        {
          "output_type": "execute_result",
          "data": {
            "text/plain": [
              "7"
            ]
          },
          "metadata": {
            "tags": []
          },
          "execution_count": 94
        }
      ]
    },
    {
      "cell_type": "code",
      "metadata": {
        "id": "Blqo-6lQ8Agr",
        "outputId": "d9f2bd38-7354-471f-9add-ae687e97acfb",
        "colab": {
          "base_uri": "https://localhost:8080/",
          "height": 185
        }
      },
      "source": [
        "y_pred = []\n",
        "for val in y_predict:\n",
        "    y_pred.append(np.argmax(val))\n",
        "#print(y_pred)    \n",
        "#convert 0 1 to 1 and 1 0 as 0\n",
        "cm = metrics.confusion_matrix(ytest,y_pred)\n",
        "print(cm)"
      ],
      "execution_count": null,
      "outputs": [
        {
          "output_type": "stream",
          "text": [
            "[[ 973    1    1    1    0    1    1    1    1    0]\n",
            " [   0 1130    1    1    0    1    2    0    0    0]\n",
            " [   5    3 1011    4    0    0    1    4    4    0]\n",
            " [   0    1    0  997    0    2    0    4    5    1]\n",
            " [   2    1    4    0  956    0    1    1    1   16]\n",
            " [   2    0    0    9    1  864    6    0    7    3]\n",
            " [   9    3    1    1    4    6  931    0    3    0]\n",
            " [   1    7    8    4    0    0    0 1000    4    4]\n",
            " [   5    0    2    8    2    3    1    3  946    4]\n",
            " [   2    3    0    3    6    2    0    4    2  987]]\n"
          ],
          "name": "stdout"
        }
      ]
    },
    {
      "cell_type": "code",
      "metadata": {
        "id": "oLEPbJmv8Agt",
        "outputId": "6aee666e-a41f-4c7f-80f5-8d327a1d5179",
        "colab": {
          "base_uri": "https://localhost:8080/",
          "height": 302
        }
      },
      "source": [
        "cr=metrics.classification_report(ytest,y_pred)\n",
        "print(cr)"
      ],
      "execution_count": null,
      "outputs": [
        {
          "output_type": "stream",
          "text": [
            "              precision    recall  f1-score   support\n",
            "\n",
            "           0       0.97      0.99      0.98       980\n",
            "           1       0.98      1.00      0.99      1135\n",
            "           2       0.98      0.98      0.98      1032\n",
            "           3       0.97      0.99      0.98      1010\n",
            "           4       0.99      0.97      0.98       982\n",
            "           5       0.98      0.97      0.98       892\n",
            "           6       0.99      0.97      0.98       958\n",
            "           7       0.98      0.97      0.98      1028\n",
            "           8       0.97      0.97      0.97       974\n",
            "           9       0.97      0.98      0.98      1009\n",
            "\n",
            "    accuracy                           0.98     10000\n",
            "   macro avg       0.98      0.98      0.98     10000\n",
            "weighted avg       0.98      0.98      0.98     10000\n",
            "\n"
          ],
          "name": "stdout"
        }
      ]
    },
    {
      "cell_type": "code",
      "metadata": {
        "id": "vjxAXBYF8Agz"
      },
      "source": [
        "# Using functional api"
      ],
      "execution_count": null,
      "outputs": []
    },
    {
      "cell_type": "code",
      "metadata": {
        "id": "KYU_sWBQFGab"
      },
      "source": [
        "Input_layer = Input(shape=(784,))  #defining input layer\n",
        "First_hidden = Dense(500 , activation='relu')(Input_layer)\n",
        "Second_hidden = Dense(100, activation='relu')(First_hidden)\n",
        "Output_layer = Dense(10, activation='softmax')(Second_hidden)\n",
        "model = Model(inputs=Input_layer, outputs=Output_layer)"
      ],
      "execution_count": null,
      "outputs": []
    },
    {
      "cell_type": "code",
      "metadata": {
        "id": "w3-NEJNrFGad",
        "outputId": "d7a5fc4b-1918-4745-fd71-d53b6de3789e"
      },
      "source": [
        "model.summary()"
      ],
      "execution_count": null,
      "outputs": [
        {
          "output_type": "stream",
          "text": [
            "Model: \"model_1\"\n",
            "_________________________________________________________________\n",
            "Layer (type)                 Output Shape              Param #   \n",
            "=================================================================\n",
            "input_2 (InputLayer)         [(None, 784)]             0         \n",
            "_________________________________________________________________\n",
            "dense_27 (Dense)             (None, 500)               392500    \n",
            "_________________________________________________________________\n",
            "dense_28 (Dense)             (None, 100)               50100     \n",
            "_________________________________________________________________\n",
            "dense_29 (Dense)             (None, 10)                1010      \n",
            "=================================================================\n",
            "Total params: 443,610\n",
            "Trainable params: 443,610\n",
            "Non-trainable params: 0\n",
            "_________________________________________________________________\n"
          ],
          "name": "stdout"
        }
      ]
    },
    {
      "cell_type": "code",
      "metadata": {
        "id": "V-E0b3uFFGag"
      },
      "source": [
        "model.compile(loss='categorical_crossentropy',optimizer='adam', metrics=['accuracy'])"
      ],
      "execution_count": null,
      "outputs": []
    },
    {
      "cell_type": "code",
      "metadata": {
        "id": "pwLenCqQFGaj",
        "outputId": "6108babe-edfd-408f-c928-786c28643e8a"
      },
      "source": [
        "history = model.fit(x_train, y_train, epochs=10, batch_size=512, validation_split=.3, verbose=1)"
      ],
      "execution_count": null,
      "outputs": [
        {
          "output_type": "stream",
          "text": [
            "Train on 42000 samples, validate on 18000 samples\n",
            "Epoch 1/10\n",
            "42000/42000 [==============================] - 2s 45us/sample - loss: 0.4734 - accuracy: 0.8697 - val_loss: 0.2364 - val_accuracy: 0.9321\n",
            "Epoch 2/10\n",
            "42000/42000 [==============================] - 1s 31us/sample - loss: 0.1824 - accuracy: 0.9472 - val_loss: 0.1722 - val_accuracy: 0.9502\n",
            "Epoch 3/10\n",
            "42000/42000 [==============================] - 1s 32us/sample - loss: 0.1201 - accuracy: 0.9657 - val_loss: 0.1382 - val_accuracy: 0.9601\n",
            "Epoch 4/10\n",
            "42000/42000 [==============================] - 1s 33us/sample - loss: 0.0910 - accuracy: 0.9732 - val_loss: 0.1208 - val_accuracy: 0.9632\n",
            "Epoch 5/10\n",
            "42000/42000 [==============================] - 1s 34us/sample - loss: 0.0676 - accuracy: 0.9805 - val_loss: 0.1044 - val_accuracy: 0.9692\n",
            "Epoch 6/10\n",
            "42000/42000 [==============================] - 1s 32us/sample - loss: 0.0606 - accuracy: 0.9821 - val_loss: 0.0955 - val_accuracy: 0.9717\n",
            "Epoch 7/10\n",
            "42000/42000 [==============================] - 1s 32us/sample - loss: 0.0431 - accuracy: 0.9882 - val_loss: 0.0966 - val_accuracy: 0.9717\n",
            "Epoch 8/10\n",
            "42000/42000 [==============================] - 2s 36us/sample - loss: 0.0411 - accuracy: 0.9880 - val_loss: 0.0982 - val_accuracy: 0.9711\n",
            "Epoch 9/10\n",
            "42000/42000 [==============================] - 2s 37us/sample - loss: 0.0322 - accuracy: 0.9908 - val_loss: 0.0913 - val_accuracy: 0.9742\n",
            "Epoch 10/10\n",
            "42000/42000 [==============================] - 1s 35us/sample - loss: 0.0224 - accuracy: 0.9945 - val_loss: 0.0878 - val_accuracy: 0.9748\n"
          ],
          "name": "stdout"
        }
      ]
    },
    {
      "cell_type": "code",
      "metadata": {
        "id": "xUTvwMDeFGam",
        "outputId": "6f246aa9-1594-47d3-bb6b-e7e5a349fbd1"
      },
      "source": [
        "plt.plot(history.history['accuracy'])\n",
        "plt.plot(history.history['val_accuracy'])\n",
        "plt.plot(history.history['loss'])\n",
        "plt.title('model accuracy')\n",
        "plt.ylabel('accuracy / loss')\n",
        "plt.xlabel('epoch')\n",
        "plt.legend(['training', 'validation'], loc='best')\n",
        "plt.show()\n"
      ],
      "execution_count": null,
      "outputs": [
        {
          "output_type": "display_data",
          "data": {
            "image/png": "[encoded data removed]",
            "text/plain": [
              "<Figure size 432x288 with 1 Axes>"
            ]
          },
          "metadata": {
            "tags": [],
            "needs_background": "light"
          }
        }
      ]
    },
    {
      "cell_type": "code",
      "metadata": {
        "id": "Bk7yMzAzFGao"
      },
      "source": [
        "y_predict = model.predict(x_test)"
      ],
      "execution_count": null,
      "outputs": []
    },
    {
      "cell_type": "code",
      "metadata": {
        "id": "rFfMhjAFFGaq",
        "outputId": "af932457-0bc0-4546-dab7-cb4a5ccc9b7f"
      },
      "source": [
        "cr=metrics.classification_report(ytest,y_pred)\n",
        "print(cr)"
      ],
      "execution_count": null,
      "outputs": [
        {
          "output_type": "stream",
          "text": [
            "              precision    recall  f1-score   support\n",
            "\n",
            "           0       0.97      0.99      0.98       980\n",
            "           1       0.98      1.00      0.99      1135\n",
            "           2       0.98      0.98      0.98      1032\n",
            "           3       0.97      0.99      0.98      1010\n",
            "           4       0.99      0.97      0.98       982\n",
            "           5       0.98      0.97      0.98       892\n",
            "           6       0.99      0.97      0.98       958\n",
            "           7       0.98      0.97      0.98      1028\n",
            "           8       0.97      0.97      0.97       974\n",
            "           9       0.97      0.98      0.98      1009\n",
            "\n",
            "    accuracy                           0.98     10000\n",
            "   macro avg       0.98      0.98      0.98     10000\n",
            "weighted avg       0.98      0.98      0.98     10000\n",
            "\n"
          ],
          "name": "stdout"
        }
      ]
    },
    {
      "cell_type": "code",
      "metadata": {
        "id": "Smdaiv86FGaw"
      },
      "source": [
        ""
      ],
      "execution_count": null,
      "outputs": []
    }
  ]
}