{
  "nbformat": 4,
  "nbformat_minor": 0,
  "metadata": {
    "colab": {
      "name": "Euclidean Distance vs Cosine Similarity.ipynb",
      "provenance": [],
      "authorship_tag": "ABX9TyOUYtdYxsT5kcXI383nO5rw",
      "include_colab_link": true
    },
    "kernelspec": {
      "name": "python3",
      "display_name": "Python 3"
    }
  },
  "cells": [
    {
      "cell_type": "markdown",
      "metadata": {
        "id": "view-in-github",
        "colab_type": "text"
      },
      "source": [
        "<a href=\"https://colab.research.google.com/github/sivasaiyadav8143/Deep-Learning-with-Python/blob/main/Euclidean_Distance_vs_Cosine_Similarity.ipynb\" target=\"_parent\"><img src=\"https://colab.research.google.com/assets/colab-badge.svg\" alt=\"Open In Colab\"/></a>"
      ]
    },
    {
      "cell_type": "code",
      "metadata": {
        "id": "Im65vgDrlcej"
      },
      "source": [
        ""
      ],
      "execution_count": null,
      "outputs": []
    },
    {
      "cell_type": "markdown",
      "metadata": {
        "id": "WuR1eqNFlxCf"
      },
      "source": [
        "## What Is Distance?"
      ]
    },
    {
      "cell_type": "markdown",
      "metadata": {
        "id": "rjk5OY-rl4wq"
      },
      "source": [
        "Both cosine similarity and Euclidean distance are methods for measuring the proximity between vectors in a vector space."
      ]
    },
    {
      "cell_type": "code",
      "metadata": {
        "id": "oXIQDICOlzBI"
      },
      "source": [
        ""
      ],
      "execution_count": null,
      "outputs": []
    }
  ]
}