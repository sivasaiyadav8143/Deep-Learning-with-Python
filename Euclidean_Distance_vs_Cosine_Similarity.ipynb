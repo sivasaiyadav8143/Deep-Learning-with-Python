{
  "nbformat": 4,
  "nbformat_minor": 0,
  "metadata": {
    "colab": {
      "name": "Euclidean Distance vs Cosine Similarity.ipynb",
      "provenance": [],
      "include_colab_link": true
    },
    "kernelspec": {
      "name": "python3",
      "display_name": "Python 3"
    }
  },
  "cells": [
    {
      "cell_type": "markdown",
      "metadata": {
        "id": "view-in-github",
        "colab_type": "text"
      },
      "source": [
        "<a href=\"https://colab.research.google.com/github/sivasaiyadav8143/Deep-Learning-with-Python/blob/main/Euclidean_Distance_vs_Cosine_Similarity.ipynb\" target=\"_parent\"><img src=\"https://colab.research.google.com/assets/colab-badge.svg\" alt=\"Open In Colab\"/></a>"
      ]
    },
    {
      "cell_type": "markdown",
      "metadata": {
        "id": "WuR1eqNFlxCf"
      },
      "source": [
        "## What Is Distance?"
      ]
    },
    {
      "cell_type": "markdown",
      "metadata": {
        "id": "rjk5OY-rl4wq"
      },
      "source": [
        "Both cosine similarity and Euclidean distance are methods for measuring the proximity between vectors in a vector space.\n",
        "\n",
        "<center>\n",
        "<img src=\"https://github.com/sivasaiyadav8143/Deep-Learning-with-Python/blob/main/ScreenShots/distance.png?raw=1\"></center>"
      ]
    },
    {
      "cell_type": "markdown",
      "metadata": {
        "id": "U0UaCoN5m8y7"
      },
      "source": [
        "We have a 2D vector space in which three distinct points are located: blue, red, and green. We could ask ourselves the question as to which pair or pairs of points are closer to one another. As we do so, we expect the answer to be comprised of a unique set of pair or pairs of points:\n",
        "\n",
        "*  If only one pair is the closest, then the answer can be either (blue, red), *(blue, green), or (red, green)\n",
        "*  If two pairs are the closest, the number of possible sets is three, corresponding to all two-element combinations of the three pairs\n",
        "*  Finally, if all three pairs are equally close, there is only one possible set that contains them all\n",
        "\n",
        "\n",
        "\n",
        "This means that the set with the closest pair or pairs of points is one of seven possible sets. How do we determine then which of the seven possible answers is the right one? To do so, we need to first determine a method for measuring distances."
      ]
    },
    {
      "cell_type": "markdown",
      "metadata": {
        "id": "yiMZ979bn3CV"
      },
      "source": [
        "Some of the ways to measure is with\n",
        "1. Euclidean distance\n",
        "2. Cosine similarity."
      ]
    },
    {
      "cell_type": "markdown",
      "metadata": {
        "id": "SpPyFBL6oaUy"
      },
      "source": [
        "1. **Euclidean distance** is a measure of the true straight line distance between two points in Euclidean space. It is corresponds to the L2-norm of a difference between vectors.\n",
        "2. **Cosine similarity** is generally used as a metric for measuring distance when the magnitude of the vectors does not matter. "
      ]
    },
    {
      "cell_type": "markdown",
      "metadata": {
        "id": "rTUOeJvLo14L"
      },
      "source": [
        "**When to use what**"
      ]
    },
    {
      "cell_type": "markdown",
      "metadata": {
        "id": "vt08dbOOo-tD"
      },
      "source": [
        "<center>\n",
        "<img src=\"https://github.com/sivasaiyadav8143/Deep-Learning-with-Python/blob/main/ScreenShots/Cosine%20Vs%20Euclidean.png?raw=1\"></center>"
      ]
    },
    {
      "cell_type": "markdown",
      "metadata": {
        "id": "RbxD03qIpH9R"
      },
      "source": [
        "Case 1: When Cosine Similarity is better than Euclidean distance"
      ]
    },
    {
      "cell_type": "markdown",
      "metadata": {
        "id": "EQb-82DLpQ1B"
      },
      "source": [
        "Let’s assume OA, OB and OC are three vectors as illustrated in the figure 1. The points A, B and C form an equilateral triangle. This means that the Euclidean distance of these points are same (AB = BC = CA). In this case, the Euclidean distance will not be effective in deciding which of the three vectors are similar to each other. Although the magnitude (length) of the vectors are different, Cosine similarity measure shows that OA is more similar to OB than to OC."
      ]
    },
    {
      "cell_type": "code",
      "metadata": {
        "id": "oXIQDICOlzBI",
        "outputId": "3ab35485-cb63-4be8-bca5-bbf27c2e5379",
        "colab": {
          "base_uri": "https://localhost:8080/",
          "height": 204
        }
      },
      "source": [
        "#Python code for Case 1: Where Cosine similarity measure is better than Euclidean distance\n",
        "from scipy.spatial import distance\n",
        "\n",
        "# The points below have been selected to demonstrate the case for Cosine similarity\n",
        "O = [0.00, 0.00]\n",
        "A = [1.45, 7.56]\n",
        "B = [7.81, 12.41]\n",
        "C = [8.83, 4.48]\n",
        "\n",
        "#Cosine similarity\n",
        "cos_simA_B = 1 - distance.cosine(A, B)\n",
        "cos_simB_C = 1 - distance.cosine(B, C)\n",
        "cos_simA_C = 1 - distance.cosine(A, C)\n",
        "\n",
        "#Measuring Euclidean distances\n",
        "euc_dstA_B = distance.euclidean(A,B)\n",
        "euc_dstB_C = distance.euclidean(B,C)\n",
        "euc_dstA_C = distance.euclidean(C,A)\n",
        "\n",
        "print('Cosine Similarity measure:\\n')\n",
        "print('Between OA and OB: {}'.format(cos_simA_B))\n",
        "print('Between OB and OC: {}'.format(cos_simB_C))\n",
        "print('Between OC and OA: {}\\n'.format(cos_simA_C))\n",
        "\n",
        "print('Euclidean Distances::\\n')\n",
        "print('From A to B: {}'.format(euc_dstA_B))\n",
        "print('From B to C: {}'.format(euc_dstB_C))\n",
        "print('From C to A: {}'.format(euc_dstA_C))\n"
      ],
      "execution_count": 1,
      "outputs": [
        {
          "output_type": "stream",
          "text": [
            "Cosine Similarity measure:\n",
            "\n",
            "Between OA and OB: 0.9315258342391336\n",
            "Between OB and OC: 0.8579300679601176\n",
            "Between OC and OA: 0.6123399158783746\n",
            "\n",
            "Euclidean Distances::\n",
            "\n",
            "From A to B: 7.998256059917061\n",
            "From B to C: 7.995329886877713\n",
            "From C to A: 7.996924408796171\n"
          ],
          "name": "stdout"
        }
      ]
    },
    {
      "cell_type": "markdown",
      "metadata": {
        "id": "TDSno2T0qHwh"
      },
      "source": [
        "**Case 1: Where Cosine similarity measure is better than Euclidean distance**"
      ]
    },
    {
      "cell_type": "markdown",
      "metadata": {
        "id": "FJJ_pJRzqNz6"
      },
      "source": [
        "As can be seen from the above output, the Cosine similarity measure is better than the Euclidean distance. Cosine similarity measure suggests that OA and OB are closer to each other than OA to OC."
      ]
    },
    {
      "cell_type": "code",
      "metadata": {
        "id": "iLFqcft_qVd5"
      },
      "source": [
        ""
      ],
      "execution_count": null,
      "outputs": []
    },
    {
      "cell_type": "markdown",
      "metadata": {
        "id": "iwiuLHpdqSIT"
      },
      "source": [
        "**Case 2: When Euclidean distance is better than Cosine similarity**\n",
        "\n",
        "Consider another case where the points A’, B’ and C’ are collinear as illustrated in the figure 1. In this case, Cosine similarity of all the three vectors (OA’, OB’ and OC’) are same (equals to 1). However, the Euclidean distance measure will be more effective and it indicates that A’ is more closer (similar) to B’ than C’."
      ]
    },
    {
      "cell_type": "code",
      "metadata": {
        "id": "rhy_EuLyqB4E",
        "outputId": "6b5316b5-52dc-44f5-e9ee-90ceffe49890",
        "colab": {
          "base_uri": "https://localhost:8080/",
          "height": 204
        }
      },
      "source": [
        "#Python code for Case 2: Euclidean distance is better than Cosine similarity\n",
        "A_ = [8.00, 2.00]\n",
        "B_ = [12.00, 3.00]\n",
        "C_ = [32.00, 8.00]\n",
        "\n",
        "#Cosine similarity\n",
        "cos_simA_B_ = 1 - distance.cosine(A_, B_)\n",
        "cos_simB_C_ = 1 - distance.cosine(B_, C_)\n",
        "cos_simA_C_ = 1 - distance.cosine(A_, C_)\n",
        "\n",
        "#Euclidean distance\n",
        "dstA_B_ = distance.euclidean(A_,B_)\n",
        "dstB_C_ = distance.euclidean(B_,C_)\n",
        "dstA_C_ = distance.euclidean(C_,A_)\n",
        "\n",
        "print('Cosine Similarity measure:\\n')\n",
        "print('Between OA and OB: {}'.format(cos_simA_B_))\n",
        "print('Between OB and OC: {}'.format(cos_simB_C_))\n",
        "print('Between OC and OA: {}\\n'.format(cos_simA_C_))\n",
        "\n",
        "print('Euclidean Distances::\\n')\n",
        "print('From A to B: {}'.format(dstA_B_))\n",
        "print('From B to C: {}'.format(dstB_C_))\n",
        "print('From C to A: {}'.format(dstA_C_))"
      ],
      "execution_count": 2,
      "outputs": [
        {
          "output_type": "stream",
          "text": [
            "Cosine Similarity measure:\n",
            "\n",
            "Between OA and OB: 1.0\n",
            "Between OB and OC: 1.0\n",
            "Between OC and OA: 1.0\n",
            "\n",
            "Euclidean Distances::\n",
            "\n",
            "From A to B: 4.123105625617661\n",
            "From B to C: 20.615528128088304\n",
            "From C to A: 24.73863375370596\n"
          ],
          "name": "stdout"
        }
      ]
    },
    {
      "cell_type": "markdown",
      "metadata": {
        "id": "3BvkWT3GqdxD"
      },
      "source": [
        "**Case 2: Euclidean distance is a better measure than Cosine similarity**"
      ]
    },
    {
      "cell_type": "markdown",
      "metadata": {
        "id": "3C321pV5qyT6"
      },
      "source": [
        "As can be seen from the above output, the Cosine similarity measure was same but the Euclidean distance suggests points A and B are closer to each other and hence similar to each other."
      ]
    },
    {
      "cell_type": "code",
      "metadata": {
        "id": "fFXsJ1LDqfQh"
      },
      "source": [
        ""
      ],
      "execution_count": null,
      "outputs": []
    },
    {
      "cell_type": "markdown",
      "metadata": {
        "id": "uT3J98_4rEdL"
      },
      "source": [
        "**When Should We Prefer One Over the Other?**"
      ]
    },
    {
      "cell_type": "markdown",
      "metadata": {
        "id": "S-pWD2LyrKAh"
      },
      "source": [
        "The decision as to which metric to use depends on the particular task that we have to perform:\n",
        "\n",
        "* Some tasks, such as preliminary data analysis, benefit from both metrics; each of them allows the extraction of different insights on the structure of the data\n",
        "* Others, such as text classification, generally function better under Euclidean distances\n",
        "* Some more, such as retrieval of the most similar texts to a given document, generally function better with cosine similarity\n",
        "\n",
        "As is often the case in machine learning, the trick consists in knowing all techniques and learning the heuristics associated with their application. This is acquired via trial and error."
      ]
    },
    {
      "cell_type": "code",
      "metadata": {
        "id": "AzEjd21wrRFq"
      },
      "source": [
        ""
      ],
      "execution_count": null,
      "outputs": []
    },
    {
      "cell_type": "markdown",
      "metadata": {
        "id": "Svxaopz5rS_a"
      },
      "source": [
        "## References\n",
        "\n",
        "1. https://medium.com/@sasi24/cosine-similarity-vs-euclidean-distance-e5d9a9375fc8\n",
        "2. https://cmry.github.io/notes/euclidean-v-cosine\n",
        "3. https://www.baeldung.com/cs/euclidean-distance-vs-cosine-similarity"
      ]
    },
    {
      "cell_type": "code",
      "metadata": {
        "id": "8OinX-FCrU_M"
      },
      "source": [
        ""
      ],
      "execution_count": null,
      "outputs": []
    }
  ]
}