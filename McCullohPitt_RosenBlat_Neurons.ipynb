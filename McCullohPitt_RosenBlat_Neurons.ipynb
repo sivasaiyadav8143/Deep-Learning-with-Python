{
  "nbformat": 4,
  "nbformat_minor": 0,
  "metadata": {
    "kernelspec": {
      "display_name": "Python 3",
      "language": "python",
      "name": "python3"
    },
    "language_info": {
      "codemirror_mode": {
        "name": "ipython",
        "version": 3
      },
      "file_extension": ".py",
      "mimetype": "text/x-python",
      "name": "python",
      "nbconvert_exporter": "python",
      "pygments_lexer": "ipython3",
      "version": "3.6.4"
    },
    "colab": {
      "name": "McCullohPitt_RosenBlat_Neurons.ipynb",
      "provenance": [],
      "collapsed_sections": []
    }
  },
  "cells": [
    {
      "cell_type": "code",
      "metadata": {
        "id": "sdjg2u6o_rUq"
      },
      "source": [
        "from random import choice\n",
        "from numpy import array, dot, random\n",
        "\n",
        "import numpy as np\n"
      ],
      "execution_count": 2,
      "outputs": []
    },
    {
      "cell_type": "code",
      "metadata": {
        "id": "vseGdya3_rUv"
      },
      "source": [
        "# MCNeuron for AND Gate\n",
        "# In MCNeuron, there is no concept of weights, all the inputs are given same importance.\n",
        "w = random.rand(2)\n",
        "w[1] = 1\n",
        "w[0] = 1\n",
        "\n",
        "training_data = [\n",
        "    (array([0,0]), 0),\n",
        "    (array([0,1]), 0),\n",
        "    (array([1,0]), 0),\n",
        "    (array([1,1]), 1),\n",
        "]\n",
        "\n",
        "step_function = lambda x: 0 if x < 2 else 1    # Step function with threshold of 2. Anything below is 0 "
      ],
      "execution_count": null,
      "outputs": []
    },
    {
      "cell_type": "code",
      "metadata": {
        "id": "D2ytR-0Y_rUy",
        "outputId": "b53e5b54-931d-413f-c7cc-1e257fd71419",
        "colab": {
          "base_uri": "https://localhost:8080/",
          "height": 84
        }
      },
      "source": [
        "for x, _ in training_data:\n",
        "    result = dot(x, w)\n",
        "\n",
        "    print(\"{}: {} -> {}\".format(x[:2], result, step_function(result)))\n"
      ],
      "execution_count": null,
      "outputs": [
        {
          "output_type": "stream",
          "text": [
            "[0 0]: 0.0 -> 0\n",
            "[0 1]: 1.0 -> 0\n",
            "[1 0]: 1.0 -> 0\n",
            "[1 1]: 2.0 -> 1\n"
          ],
          "name": "stdout"
        }
      ]
    },
    {
      "cell_type": "code",
      "metadata": {
        "id": "3NpPO87p_rU1"
      },
      "source": [
        "# MCNeruon for OR\n",
        "w = random.rand(2)\n",
        "w[1] = 1\n",
        "w[0] = 1\n",
        "\n",
        "training_data = [\n",
        "    (array([0,0]), 0),\n",
        "    (array([0,1]), 1),\n",
        "    (array([1,0]), 1),\n",
        "    (array([1,1]), 1),\n",
        "]\n",
        "\n",
        "step_function = lambda x: 0 if x < 1 else 1    # Step function with threshold of 1. Anything below is 0 \n"
      ],
      "execution_count": null,
      "outputs": []
    },
    {
      "cell_type": "code",
      "metadata": {
        "id": "Zw_usGCN_rU4",
        "outputId": "ba22e2fc-6c46-41a8-cda9-c44c3f57f723",
        "colab": {
          "base_uri": "https://localhost:8080/",
          "height": 84
        }
      },
      "source": [
        "for x, _ in training_data:\n",
        "    result = dot(x, w)\n",
        "\n",
        "    print(\"{}: {} -> {}\".format(x[:2], result, step_function(result)))\n"
      ],
      "execution_count": null,
      "outputs": [
        {
          "output_type": "stream",
          "text": [
            "[0 0]: 0.0 -> 0\n",
            "[0 1]: 1.0 -> 1\n",
            "[1 0]: 1.0 -> 1\n",
            "[1 1]: 2.0 -> 1\n"
          ],
          "name": "stdout"
        }
      ]
    },
    {
      "cell_type": "code",
      "metadata": {
        "id": "-xUEcVyr_rU6",
        "outputId": "70ef5cf5-74d8-4ed7-b17f-12b20592b647",
        "colab": {
          "base_uri": "https://localhost:8080/",
          "height": 84
        }
      },
      "source": [
        "# MCNeuron for NAND\n",
        "\n",
        "step_function = lambda x: 0 if x >= 2 else 1    # Step function with threshold of > 2 is 0 \n",
        "\n",
        "w[1] = 1\n",
        "w[0] = 1\n",
        "\n",
        "training_data = [\n",
        "    (array([0,0]), 1),\n",
        "    (array([0,1]), 0),\n",
        "    (array([1,0]), 0),\n",
        "    (array([1,1]), 0),\n",
        "]\n",
        "\n",
        "for x, _ in training_data:\n",
        "    result = dot(x, w)\n",
        "\n",
        "    print(\"{}: {} -> {}\".format(x[:2], result, step_function(result)))\n"
      ],
      "execution_count": null,
      "outputs": [
        {
          "output_type": "stream",
          "text": [
            "[0 0]: 0.0 -> 1\n",
            "[0 1]: 1.0 -> 1\n",
            "[1 0]: 1.0 -> 1\n",
            "[1 1]: 2.0 -> 0\n"
          ],
          "name": "stdout"
        }
      ]
    },
    {
      "cell_type": "code",
      "metadata": {
        "id": "gHlv_aVQ_rU_"
      },
      "source": [
        "# The problem with MCN is, we manually has to adjust the weights.\n",
        "# Rosenblat's Perceptron included a way to adjust the weights and find the appropriate combinations \n",
        "# to overcome the need to modify thresholds for each gate separately, it used a bias term using which the thresholds in the \n",
        "# neuron can be modified to implement multiple Boolean functions in one code"
      ],
      "execution_count": null,
      "outputs": []
    },
    {
      "cell_type": "code",
      "metadata": {
        "id": "2uayl_kAcsE-",
        "outputId": "42bab3c8-b00e-43ac-b8fc-3ddb6020a200",
        "colab": {
          "base_uri": "https://localhost:8080/"
        }
      },
      "source": [
        "step_function = lambda x: 0 if x < 30 else 1\n",
        "\n",
        "training_data = [\n",
        "    (array([0,0,1]), 0),\n",
        "    (array([0,1,1]), 0),\n",
        "    (array([1,0,1]), 0),\n",
        "    (array([1,1,1]), 1),\n",
        "]\n",
        "\n",
        "w = random.rand(3)\n",
        "print(f' before loop, W : {w}')\n",
        "b = .1    # initializing bias term\n",
        "errors = []\n",
        "eta = 0.1\n",
        "n = 10\n",
        "\n",
        "for i in range(n):\n",
        "    x, expected = choice(training_data)\n",
        "    print(f'X : {x}')\n",
        "    \n",
        "   # w = np.append(w, b)\n",
        "\n",
        "    result = dot(w, x)\n",
        "    error = expected - step_function(result)   # irrespective of what threshold we set, the algo will find the approp weights\n",
        "    print(f'Error, {error}')\n",
        "    errors.append(error)                       # that is the beauty of bias. The 'AND' pattern is learnt from data\n",
        "    w += eta * error * x\n",
        "    print(f' In loop, W : {w}')"
      ],
      "execution_count": 6,
      "outputs": [
        {
          "output_type": "stream",
          "text": [
            " before loop, W : [0.7784629  0.94180421 0.5953995 ]\n",
            "X : [1 0 1]\n",
            "Error, 0\n",
            " In loop, W : [0.7784629  0.94180421 0.5953995 ]\n",
            "X : [0 0 1]\n",
            "Error, 0\n",
            " In loop, W : [0.7784629  0.94180421 0.5953995 ]\n",
            "X : [1 1 1]\n",
            "Error, 1\n",
            " In loop, W : [0.8784629  1.04180421 0.6953995 ]\n",
            "X : [0 1 1]\n",
            "Error, 0\n",
            " In loop, W : [0.8784629  1.04180421 0.6953995 ]\n",
            "X : [0 0 1]\n",
            "Error, 0\n",
            " In loop, W : [0.8784629  1.04180421 0.6953995 ]\n",
            "X : [1 1 1]\n",
            "Error, 1\n",
            " In loop, W : [0.9784629  1.14180421 0.7953995 ]\n",
            "X : [0 0 1]\n",
            "Error, 0\n",
            " In loop, W : [0.9784629  1.14180421 0.7953995 ]\n",
            "X : [0 1 1]\n",
            "Error, 0\n",
            " In loop, W : [0.9784629  1.14180421 0.7953995 ]\n",
            "X : [0 0 1]\n",
            "Error, 0\n",
            " In loop, W : [0.9784629  1.14180421 0.7953995 ]\n",
            "X : [1 1 1]\n",
            "Error, 1\n",
            " In loop, W : [1.0784629  1.24180421 0.8953995 ]\n"
          ],
          "name": "stdout"
        }
      ]
    },
    {
      "cell_type": "code",
      "metadata": {
        "id": "RalIuK_x_rVC"
      },
      "source": [
        "\n",
        "step_function = lambda x: 0 if x < 30 else 1    # Step function with threshold of 0.5. Anything below is 0 \n",
        "\n",
        "\n",
        "training_data = [\n",
        "    (array([0,0,1]), 0),\n",
        "    (array([0,1,1]), 0),\n",
        "    (array([1,0,1]), 0),\n",
        "    (array([1,1,1]), 1),\n",
        "]\n",
        "\n",
        "w = random.rand(3)\n",
        "b = .1    # initializing bias term\n",
        "errors = []\n",
        "eta = 0.1\n",
        "n = 10000\n",
        "\n",
        "for i in range(n):\n",
        "    x, expected = choice(training_data)\n",
        "    \n",
        "   # w = np.append(w, b)\n",
        "\n",
        "    result = dot(w, x)\n",
        "    error = expected - step_function(result)   # irrespective of what threshold we set, the algo will find the approp weights\n",
        "    errors.append(error)                       # that is the beauty of bias. The 'AND' pattern is learnt from data\n",
        "    #when error is there will not be any update in weights since whole expression will become zero and old weight remains.\n",
        "    w += eta * error * x\n",
        "\n",
        "for x, _ in training_data:\n",
        "    result = dot(x, w)\n",
        "    print(\"{}: {} -> {}\".format(x[:3], result, step_function(result)))\n"
      ],
      "execution_count": null,
      "outputs": []
    },
    {
      "cell_type": "code",
      "metadata": {
        "id": "2Bvo6tDt_rVH",
        "outputId": "8c4560a1-baae-4bea-aa34-fa7c4eceedc1",
        "colab": {
          "base_uri": "https://localhost:8080/",
          "height": 84
        }
      },
      "source": [
        "# OR function in RB Neuron\n",
        "\n",
        "\n",
        "step_function = lambda x: 0 if x < 10 else 1    # Step function with threshold of 0.5. Anything below is 0 \n",
        "\n",
        "\n",
        "# AND gate\n",
        "training_data = [\n",
        "    (array([0,0,1]), 0),\n",
        "    (array([0,1,1]), 1),\n",
        "    (array([1,0,1]), 1),\n",
        "    (array([1,1,1]), 1),\n",
        "]\n",
        "\n",
        "w = random.rand(3)\n",
        "b = .1    # initializing bias term\n",
        "errors = []\n",
        "eta = 0.01\n",
        "n = 10000\n",
        "\n",
        "for i in range(n):\n",
        "    x, expected = choice(training_data)\n",
        "    \n",
        "   # w = np.append(w, b)\n",
        "\n",
        "    result = dot(w, x)\n",
        "    error = expected - step_function(result)   # irrespective of what threshold we set, the algo will find the approp weights\n",
        "    errors.append(error)                       # that is the beauty of bias. The 'OR' pattern is learnt from data\n",
        "    w += eta * error * x\n",
        "\n",
        "for x, _ in training_data:\n",
        "    result = dot(x, w)\n",
        "    print(\"{}: {} -> {}\".format(x[:3], result, step_function(result)))\n"
      ],
      "execution_count": null,
      "outputs": [
        {
          "output_type": "stream",
          "text": [
            "[0 0 1]: 6.261557703740946 -> 0\n",
            "[0 1 1]: 10.363693189499358 -> 1\n",
            "[1 0 1]: 10.000889576025322 -> 1\n",
            "[1 1 1]: 14.103025061783736 -> 1\n"
          ],
          "name": "stdout"
        }
      ]
    },
    {
      "cell_type": "code",
      "metadata": {
        "id": "WFdP2PFh_rVJ"
      },
      "source": [
        ""
      ],
      "execution_count": null,
      "outputs": []
    }
  ]
}