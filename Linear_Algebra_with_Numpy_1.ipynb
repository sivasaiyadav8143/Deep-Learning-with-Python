{
  "nbformat": 4,
  "nbformat_minor": 0,
  "metadata": {
    "colab": {
      "name": "Linear Algebra with Numpy - 1.ipynb",
      "provenance": [],
      "authorship_tag": "ABX9TyMH90+3qykmzZ3Vs9Omk+Zq",
      "include_colab_link": true
    },
    "kernelspec": {
      "name": "python3",
      "display_name": "Python 3"
    }
  },
  "cells": [
    {
      "cell_type": "markdown",
      "metadata": {
        "id": "view-in-github",
        "colab_type": "text"
      },
      "source": [
        "<a href=\"https://colab.research.google.com/github/sivasaiyadav8143/Deep-Learning-with-Python/blob/main/Linear_Algebra_with_Numpy_1.ipynb\" target=\"_parent\"><img src=\"https://colab.research.google.com/assets/colab-badge.svg\" alt=\"Open In Colab\"/></a>"
      ]
    },
    {
      "cell_type": "markdown",
      "metadata": {
        "id": "44ZYmLfT4W3g"
      },
      "source": [
        "# Numpy \n",
        "Numpy is a Linear Algebra Library in Python.It provides a multidimensional array object, various derived objects (such as masked arrays and matrices), and an assortment of routines for fast operations on arrays, including mathematical, logical, shape manipulation, sorting, selecting, I/O, discrete Fourier transforms, basic linear algebra, basic statistical operations, random simulation and much more.\n",
        "\n",
        "[More On](https://numpy.org/doc/stable/user/whatisnumpy.html)"
      ]
    },
    {
      "cell_type": "code",
      "metadata": {
        "id": "UCgfOjW-2VBw"
      },
      "source": [
        "# importing numpy\n",
        "import numpy as np"
      ],
      "execution_count": 2,
      "outputs": []
    },
    {
      "cell_type": "code",
      "metadata": {
        "id": "70ETsYOp65Gl",
        "outputId": "b6e562d3-9f2b-439f-8669-3ff84140d9ad",
        "colab": {
          "base_uri": "https://localhost:8080/",
          "height": 34
        }
      },
      "source": [
        "print(np.__version__)"
      ],
      "execution_count": 3,
      "outputs": [
        {
          "output_type": "stream",
          "text": [
            "1.18.5\n"
          ],
          "name": "stdout"
        }
      ]
    },
    {
      "cell_type": "markdown",
      "metadata": {
        "id": "UATrNPUg7B12"
      },
      "source": [
        "With numpy we can vectors which is a 1-d arrays and matrices are 2-d.We can perform all operations that we do in mathematics. Lets see ony by one with numpy."
      ]
    },
    {
      "cell_type": "markdown",
      "metadata": {
        "id": "erOWJJZI7gC8"
      },
      "source": [
        "### Create a vector or 1D array and a matrix or 2D array"
      ]
    },
    {
      "cell_type": "code",
      "metadata": {
        "id": "okLyGRh58AI1",
        "outputId": "04be90e7-f935-4d4d-e6ef-ebc1c27baca7",
        "colab": {
          "base_uri": "https://localhost:8080/",
          "height": 34
        }
      },
      "source": [
        "# vector = np.array([0,1,2,3,4,5,6,7])\n",
        "vector = np.arange(8)\n",
        "vector"
      ],
      "execution_count": 7,
      "outputs": [
        {
          "output_type": "execute_result",
          "data": {
            "text/plain": [
              "array([0, 1, 2, 3, 4, 5, 6, 7])"
            ]
          },
          "metadata": {
            "tags": []
          },
          "execution_count": 7
        }
      ]
    },
    {
      "cell_type": "code",
      "metadata": {
        "id": "B7Yzz-r48Adb",
        "outputId": "c3189980-f2f7-4566-b871-6482e3b0796c",
        "colab": {
          "base_uri": "https://localhost:8080/",
          "height": 68
        }
      },
      "source": [
        "matrix = np.array([[0,1,2],[3,4,5],[6,7,8]])\n",
        "matrix"
      ],
      "execution_count": 9,
      "outputs": [
        {
          "output_type": "execute_result",
          "data": {
            "text/plain": [
              "array([[0, 1, 2],\n",
              "       [3, 4, 5],\n",
              "       [6, 7, 8]])"
            ]
          },
          "metadata": {
            "tags": []
          },
          "execution_count": 9
        }
      ]
    },
    {
      "cell_type": "markdown",
      "metadata": {
        "id": "j9UeRXHw9UqN"
      },
      "source": [
        "### Array Slicing"
      ]
    },
    {
      "cell_type": "code",
      "metadata": {
        "id": "JUR1pcoZ8Aqz",
        "outputId": "9b490db1-dce2-47dc-d799-7427c055e381",
        "colab": {
          "base_uri": "https://localhost:8080/",
          "height": 51
        }
      },
      "source": [
        "mat1 = np.arange(25)\n",
        "print(mat1) # vector"
      ],
      "execution_count": 14,
      "outputs": [
        {
          "output_type": "stream",
          "text": [
            "[ 0  1  2  3  4  5  6  7  8  9 10 11 12 13 14 15 16 17 18 19 20 21 22 23\n",
            " 24]\n"
          ],
          "name": "stdout"
        }
      ]
    },
    {
      "cell_type": "code",
      "metadata": {
        "id": "qF8UU6ji8AxG",
        "outputId": "6547eaf5-5f26-463f-d2eb-0136b4893e35",
        "colab": {
          "base_uri": "https://localhost:8080/",
          "height": 102
        }
      },
      "source": [
        "mat1 = mat1.reshape(5,5) # conveting or reshaping a vector to a 5*5 matrix\n",
        "mat1"
      ],
      "execution_count": 16,
      "outputs": [
        {
          "output_type": "execute_result",
          "data": {
            "text/plain": [
              "array([[ 0,  1,  2,  3,  4],\n",
              "       [ 5,  6,  7,  8,  9],\n",
              "       [10, 11, 12, 13, 14],\n",
              "       [15, 16, 17, 18, 19],\n",
              "       [20, 21, 22, 23, 24]])"
            ]
          },
          "metadata": {
            "tags": []
          },
          "execution_count": 16
        }
      ]
    },
    {
      "cell_type": "code",
      "metadata": {
        "id": "yEdKtGQW8Au2",
        "outputId": "ffbcc94d-5bce-4aa6-d441-e36f9b7a8be2",
        "colab": {
          "base_uri": "https://localhost:8080/",
          "height": 289
        }
      },
      "source": [
        "# Note : Indexing starts from 0, not from 1\n",
        "\n",
        "print(mat1[0,0]) # 1st row, 1st column\n",
        "print('\\n')\n",
        "print(mat1[1,4]) # 2nd row, 5th column\n",
        "print('\\n')\n",
        "print(mat1[2][2]) # 3rd row, 3rd column\n",
        "print('\\n')\n",
        "print(mat1[4][0]) # 5th row, 1st column\n",
        "print('\\n')\n",
        "print(mat1[:,0]) # all row of 1st column\n",
        "print('\\n')\n",
        "print(mat1[2,:]) # 3rd row, all column"
      ],
      "execution_count": 35,
      "outputs": [
        {
          "output_type": "stream",
          "text": [
            "0\n",
            "\n",
            "\n",
            "9\n",
            "\n",
            "\n",
            "12\n",
            "\n",
            "\n",
            "20\n",
            "\n",
            "\n",
            "[ 0  5 10 15 20]\n",
            "\n",
            "\n",
            "[10 11 12 13 14]\n"
          ],
          "name": "stdout"
        }
      ]
    },
    {
      "cell_type": "code",
      "metadata": {
        "id": "ezFEMr3Z8Akg",
        "outputId": "b77a8b00-d70a-4faf-81c0-3dd9568a215f",
        "colab": {
          "base_uri": "https://localhost:8080/",
          "height": 170
        }
      },
      "source": [
        "print(mat1[4,:3]) # 5th row, 1,2,3 columns\n",
        "print('\\n')\n",
        "print(mat1[1:4,0]) # 2,3,4 rows of 1st column\n",
        "print('\\n')\n",
        "print(mat1[1:4,1:4]) #  2,3,4 rows of 2,3,4 columns (subsetmatrix)"
      ],
      "execution_count": 34,
      "outputs": [
        {
          "output_type": "stream",
          "text": [
            "[20 21 22]\n",
            "\n",
            "\n",
            "[ 5 10 15]\n",
            "\n",
            "\n",
            "[[ 6  7  8]\n",
            " [11 12 13]\n",
            " [16 17 18]]\n"
          ],
          "name": "stdout"
        }
      ]
    },
    {
      "cell_type": "markdown",
      "metadata": {
        "id": "yz3BLahdCu4M"
      },
      "source": [
        "Basic Array operations"
      ]
    },
    {
      "cell_type": "code",
      "metadata": {
        "id": "5tZgLAfe8AWO",
        "outputId": "82e43269-608e-4999-b174-d6a9e2b81da2",
        "colab": {
          "base_uri": "https://localhost:8080/",
          "height": 238
        }
      },
      "source": [
        "print(type(mat1)) #datatype of mat1\n",
        "print('\\n')\n",
        "print(mat1.shape) # rows x columns of mat1\n",
        "print('\\n')\n",
        "print(mat1.dtype) #datatype of elements in mat1\n",
        "print('\\n')\n",
        "print(mat1.ndim) # number of dimensions\n",
        "print('\\n')\n",
        "print(mat1.size) #number of Elements in mat1"
      ],
      "execution_count": 37,
      "outputs": [
        {
          "output_type": "stream",
          "text": [
            "<class 'numpy.ndarray'>\n",
            "\n",
            "\n",
            "(5, 5)\n",
            "\n",
            "\n",
            "int64\n",
            "\n",
            "\n",
            "2\n",
            "\n",
            "\n",
            "25\n"
          ],
          "name": "stdout"
        }
      ]
    },
    {
      "cell_type": "code",
      "metadata": {
        "id": "RqnXsOpaCrjG",
        "outputId": "d016c949-364e-460c-95f2-68fafd1dc24a",
        "colab": {
          "base_uri": "https://localhost:8080/",
          "height": 306
        }
      },
      "source": [
        "print(mat1.max()) #max val in mat1\n",
        "# print(np.max(mat1)) # another way\n",
        "\n",
        "print('\\n')\n",
        "\n",
        "print(mat1.argmax()) #index of max val in mat1\n",
        "# print(np.argmax(mat1)) # another way\n",
        "\n",
        "print('\\n')\n",
        "\n",
        "print(mat1.min()) #min val in mat1\n",
        "# print(np.min(mat1)) # another way\n",
        "\n",
        "print('\\n')\n",
        "\n",
        "print(mat1.argmin()) #index of min val in mat1\n",
        "# print(np.argmin(mat1)) # another way\n",
        "\n",
        "print('\\n')\n",
        "\n",
        "print(mat1.sum()) #sum of all mat1 values\n",
        "# print(np.sum(mat1)) # another way\n",
        "\n",
        "print('\\n')\n",
        "\n",
        "print(mat1.cumsum()) #cummulative sum of all mat1 values\n",
        "# print(np.cumsum(mat1)) # another way"
      ],
      "execution_count": 48,
      "outputs": [
        {
          "output_type": "stream",
          "text": [
            "24\n",
            "\n",
            "\n",
            "24\n",
            "\n",
            "\n",
            "0\n",
            "\n",
            "\n",
            "0\n",
            "\n",
            "\n",
            "300\n",
            "\n",
            "\n",
            "[  0   1   3   6  10  15  21  28  36  45  55  66  78  91 105 120 136 153\n",
            " 171 190 210 231 253 276 300]\n"
          ],
          "name": "stdout"
        }
      ]
    },
    {
      "cell_type": "markdown",
      "metadata": {
        "id": "3tXZxiMeHlE8"
      },
      "source": [
        "### Basic Arithmetic operations"
      ]
    },
    {
      "cell_type": "code",
      "metadata": {
        "id": "WSQmqXYlIoJn",
        "outputId": "e581ce94-4310-46c5-fdaf-ca636f36694f",
        "colab": {
          "base_uri": "https://localhost:8080/",
          "height": 102
        }
      },
      "source": [
        "mat1"
      ],
      "execution_count": 49,
      "outputs": [
        {
          "output_type": "execute_result",
          "data": {
            "text/plain": [
              "array([[ 0,  1,  2,  3,  4],\n",
              "       [ 5,  6,  7,  8,  9],\n",
              "       [10, 11, 12, 13, 14],\n",
              "       [15, 16, 17, 18, 19],\n",
              "       [20, 21, 22, 23, 24]])"
            ]
          },
          "metadata": {
            "tags": []
          },
          "execution_count": 49
        }
      ]
    },
    {
      "cell_type": "code",
      "metadata": {
        "id": "h5hxyV8ECr7o",
        "outputId": "ed49f5d4-90f7-4b90-d3e3-b788e68872cd",
        "colab": {
          "base_uri": "https://localhost:8080/",
          "height": 153
        }
      },
      "source": [
        "# lets create two sub-matrix\n",
        "sub_mat1 = mat1[:3,:3] # first 3 rows with first 3 columns\n",
        "sub_mat2 = mat1[2:,2:] # last 3 rows with last 3 columns\n",
        "print(sub_mat1)\n",
        "print('\\n')\n",
        "print(sub_mat2)"
      ],
      "execution_count": 51,
      "outputs": [
        {
          "output_type": "stream",
          "text": [
            "[[ 0  1  2]\n",
            " [ 5  6  7]\n",
            " [10 11 12]]\n",
            "\n",
            "\n",
            "[[12 13 14]\n",
            " [17 18 19]\n",
            " [22 23 24]]\n"
          ],
          "name": "stdout"
        }
      ]
    },
    {
      "cell_type": "code",
      "metadata": {
        "id": "CKNdl9McCsEp",
        "outputId": "486bfa54-5509-4ad4-ed50-1881431f5d01",
        "colab": {
          "base_uri": "https://localhost:8080/",
          "height": 748
        }
      },
      "source": [
        "print(sub_mat1 + sub_mat2) # addition of two matrix\n",
        "# print(np.add(sub_mat1,sub_mat2))  # another way\n",
        "\n",
        "print('\\n')\n",
        "\n",
        "print(sub_mat1 - sub_mat2) # substraction of two matrix\n",
        "# print(np.subtract(sub_mat1,sub_mat2))  # another way\n",
        "\n",
        "print('\\n')\n",
        "\n",
        "# you can only multiply 2 matrices whose no.of columns in 1st matrix == no.of rows in  2nd matrix\n",
        "print(sub_mat1 * sub_mat2) # multiplication of two matrix\n",
        "# print(np.multiply(sub_mat1,sub_mat2))  # another way\n",
        "\n",
        "print('\\n')\n",
        "\n",
        "print(sub_mat1 / sub_mat2) # division of two matrix\n",
        "# print(np.divide(sub_mat1,sub_mat2))  # another way\n",
        "\n",
        "print('\\n')\n",
        "\n",
        "print(sub_mat1 ** sub_mat2) # power of matrix\n",
        "# print(np.power(sub_mat1,sub_mat2))  # another way\n",
        "\n",
        "print('\\n')\n",
        "\n",
        "print(sub_mat1 > sub_mat2) # greater than operator\n",
        "# print(np.greater(sub_mat1,sub_mat2))  # another way\n",
        "\n",
        "print('\\n')\n",
        "\n",
        "print(sub_mat1 >= sub_mat2) # greater than or wqual to operator\n",
        "# print(np.greater_equal(sub_mat1,sub_mat2))  # another way\n",
        "\n",
        "print('\\n')\n",
        "\n",
        "print(sub_mat1 < sub_mat2) # less than operator\n",
        "# print(np.less(sub_mat1,sub_mat2))  # another way\n",
        "\n",
        "print('\\n')\n",
        "\n",
        "print(sub_mat1 <= sub_mat2) # less than or wqual to operator\n",
        "# print(np.less_equal(sub_mat1,sub_mat2))  # another way\n"
      ],
      "execution_count": 64,
      "outputs": [
        {
          "output_type": "stream",
          "text": [
            "[[12 14 16]\n",
            " [22 24 26]\n",
            " [32 34 36]]\n",
            "\n",
            "\n",
            "[[-12 -12 -12]\n",
            " [-12 -12 -12]\n",
            " [-12 -12 -12]]\n",
            "\n",
            "\n",
            "[[  0  13  28]\n",
            " [ 85 108 133]\n",
            " [220 253 288]]\n",
            "\n",
            "\n",
            "[[0.         0.07692308 0.14285714]\n",
            " [0.29411765 0.33333333 0.36842105]\n",
            " [0.45454545 0.47826087 0.5       ]]\n",
            "\n",
            "\n",
            "[[                   0                    1                16384]\n",
            " [        762939453125      101559956668416    11398895185373143]\n",
            " [ 1864712049423024128  6839173302027254275 -5124814900970913792]]\n",
            "\n",
            "\n",
            "[[False False False]\n",
            " [False False False]\n",
            " [False False False]]\n",
            "\n",
            "\n",
            "[[False False False]\n",
            " [False False False]\n",
            " [False False False]]\n",
            "\n",
            "\n",
            "[[ True  True  True]\n",
            " [ True  True  True]\n",
            " [ True  True  True]]\n",
            "\n",
            "\n",
            "[[ True  True  True]\n",
            " [ True  True  True]\n",
            " [ True  True  True]]\n"
          ],
          "name": "stdout"
        }
      ]
    },
    {
      "cell_type": "markdown",
      "metadata": {
        "id": "-ol6Sur6CfTZ"
      },
      "source": [
        "NOTE : The operation we performed above is not matrix multiplication, in numpy it's element wise multiplication, thats why it did not throw an error."
      ]
    },
    {
      "cell_type": "code",
      "metadata": {
        "id": "X1FuzuC8CbLa",
        "outputId": "e65a0eaf-281d-4901-f20f-acb2fefa022a",
        "colab": {
          "base_uri": "https://localhost:8080/",
          "height": 68
        }
      },
      "source": [
        "# to perform matrix multiplication, use dot() in numpy\n",
        "sub_mat1.dot(sub_mat2)"
      ],
      "execution_count": 65,
      "outputs": [
        {
          "output_type": "execute_result",
          "data": {
            "text/plain": [
              "array([[ 61,  64,  67],\n",
              "       [316, 334, 352],\n",
              "       [571, 604, 637]])"
            ]
          },
          "metadata": {
            "tags": []
          },
          "execution_count": 65
        }
      ]
    },
    {
      "cell_type": "markdown",
      "metadata": {
        "id": "0Qv_4RfZOAlA"
      },
      "source": [
        "### Basic Filer operations"
      ]
    },
    {
      "cell_type": "code",
      "metadata": {
        "id": "dk4GiBF4OE2h",
        "outputId": "442e4c96-8e43-4195-bff7-549df8111957",
        "colab": {
          "base_uri": "https://localhost:8080/",
          "height": 102
        }
      },
      "source": [
        "mat1"
      ],
      "execution_count": 68,
      "outputs": [
        {
          "output_type": "execute_result",
          "data": {
            "text/plain": [
              "array([[ 0,  1,  2,  3,  4],\n",
              "       [ 5,  6,  7,  8,  9],\n",
              "       [10, 11, 12, 13, 14],\n",
              "       [15, 16, 17, 18, 19],\n",
              "       [20, 21, 22, 23, 24]])"
            ]
          },
          "metadata": {
            "tags": []
          },
          "execution_count": 68
        }
      ]
    },
    {
      "cell_type": "code",
      "metadata": {
        "id": "-F2uN7SxOGiz",
        "outputId": "18799a22-d1b2-477a-f847-63f8c390797d",
        "colab": {
          "base_uri": "https://localhost:8080/",
          "height": 187
        }
      },
      "source": [
        "print(mat1[mat1 > 15]) # filter values > 15\n",
        "\n",
        "print('\\n')\n",
        "\n",
        "print(mat1[mat1 % 2 == 0]) #even numbers in mat1\n",
        "\n",
        "print('\\n')\n",
        "\n",
        "print(mat1[mat1 % 2 != 0]) #odd numbers in mat1\n",
        "\n",
        "print('\\n')\n",
        "\n",
        "print(mat1[(mat1 % 3 == 0) & (mat1 % 5 == 0)]) # values divisible by 3 and 5"
      ],
      "execution_count": 73,
      "outputs": [
        {
          "output_type": "stream",
          "text": [
            "[16 17 18 19 20 21 22 23 24]\n",
            "\n",
            "\n",
            "[ 0  2  4  6  8 10 12 14 16 18 20 22 24]\n",
            "\n",
            "\n",
            "[ 1  3  5  7  9 11 13 15 17 19 21 23]\n",
            "\n",
            "\n",
            "[ 0 15]\n"
          ],
          "name": "stdout"
        }
      ]
    },
    {
      "cell_type": "code",
      "metadata": {
        "id": "eRFBTN36OGZ8"
      },
      "source": [
        ""
      ],
      "execution_count": null,
      "outputs": []
    },
    {
      "cell_type": "code",
      "metadata": {
        "id": "Rf_09OhgDZuU",
        "outputId": "e2629912-e466-4d75-9f37-6cae25705806",
        "colab": {
          "base_uri": "https://localhost:8080/",
          "height": 102
        }
      },
      "source": [
        "# Transpose of a matrix i.e. switching/interchange rows and columns.\n",
        "mat1.T"
      ],
      "execution_count": 66,
      "outputs": [
        {
          "output_type": "execute_result",
          "data": {
            "text/plain": [
              "array([[ 0,  5, 10, 15, 20],\n",
              "       [ 1,  6, 11, 16, 21],\n",
              "       [ 2,  7, 12, 17, 22],\n",
              "       [ 3,  8, 13, 18, 23],\n",
              "       [ 4,  9, 14, 19, 24]])"
            ]
          },
          "metadata": {
            "tags": []
          },
          "execution_count": 66
        }
      ]
    },
    {
      "cell_type": "code",
      "metadata": {
        "id": "PdJVnIw7FOhv",
        "outputId": "326ac79b-1f88-4409-dd0c-3980ef70a4d3",
        "colab": {
          "base_uri": "https://localhost:8080/",
          "height": 102
        }
      },
      "source": [
        "np.transpose(mat1)"
      ],
      "execution_count": 67,
      "outputs": [
        {
          "output_type": "execute_result",
          "data": {
            "text/plain": [
              "array([[ 0,  5, 10, 15, 20],\n",
              "       [ 1,  6, 11, 16, 21],\n",
              "       [ 2,  7, 12, 17, 22],\n",
              "       [ 3,  8, 13, 18, 23],\n",
              "       [ 4,  9, 14, 19, 24]])"
            ]
          },
          "metadata": {
            "tags": []
          },
          "execution_count": 67
        }
      ]
    },
    {
      "cell_type": "code",
      "metadata": {
        "id": "kDdnlK-CNWJB"
      },
      "source": [
        ""
      ],
      "execution_count": null,
      "outputs": []
    }
  ]
}