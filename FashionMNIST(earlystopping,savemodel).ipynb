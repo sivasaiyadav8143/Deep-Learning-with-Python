{
  "nbformat": 4,
  "nbformat_minor": 0,
  "metadata": {
    "accelerator": "GPU",
    "colab": {
      "name": "FashionMNIST(earlystopping,savemodel).ipynb",
      "provenance": [],
      "collapsed_sections": [],
      "include_colab_link": true
    },
    "kernelspec": {
      "display_name": "Python 3",
      "language": "python",
      "name": "python3"
    },
    "language_info": {
      "codemirror_mode": {
        "name": "ipython",
        "version": 3
      },
      "file_extension": ".py",
      "mimetype": "text/x-python",
      "name": "python",
      "nbconvert_exporter": "python",
      "pygments_lexer": "ipython3",
      "version": "3.7.4"
    }
  },
  "cells": [
    {
      "cell_type": "markdown",
      "metadata": {
        "id": "view-in-github",
        "colab_type": "text"
      },
      "source": [
        "<a href=\"https://colab.research.google.com/github/sivasaiyadav8143/Deep-Learning-with-Python/blob/main/FashionMNIST(earlystopping%2Csavemodel).ipynb\" target=\"_parent\"><img src=\"https://colab.research.google.com/assets/colab-badge.svg\" alt=\"Open In Colab\"/></a>"
      ]
    },
    {
      "cell_type": "code",
      "metadata": {
        "id": "qrqa11yF8_bq"
      },
      "source": [
        "\n",
        "%matplotlib inline\n",
        "import matplotlib.pyplot as plt\n",
        "import pandas as pd\n",
        "import keras\n",
        "from keras.datasets import fashion_mnist\n",
        "from keras.layers import Flatten\n",
        "from keras.models import Sequential\n",
        "from keras.layers import Dense, Dropout\n",
        "from keras.optimizers import SGD\n",
        "from keras.layers.advanced_activations import LeakyReLU\n",
        "\n",
        "from keras.callbacks import EarlyStopping\n",
        "from keras.constraints import maxnorm\n",
        "from keras.utils import np_utils"
      ],
      "execution_count": null,
      "outputs": []
    },
    {
      "cell_type": "code",
      "metadata": {
        "id": "gamNcXyg8_b1"
      },
      "source": [
        "# load data\n",
        "(X_train, y_train), (X_test, y_test) = fashion_mnist.load_data()\n",
        "\n",
        "\n",
        "# normalize inputs from 0-255 to 0.0-1.0\n",
        "X_train = X_train.astype('float32')\n",
        "X_test = X_test.astype('float32')\n",
        "X_train = X_train / 255.0\n",
        "X_test = X_test / 255.0\n",
        "\n",
        "\n",
        "\n",
        "# one hot encode outputs\n",
        "y_train = np_utils.to_categorical(y_train)\n",
        "y_test = np_utils.to_categorical(y_test)\n",
        "num_classes = y_test.shape[1]"
      ],
      "execution_count": null,
      "outputs": []
    },
    {
      "cell_type": "code",
      "metadata": {
        "colab": {
          "base_uri": "https://localhost:8080/",
          "height": 918
        },
        "id": "xQ5lw7P1eukZ",
        "outputId": "ff7b0d5d-591c-4366-ac43-d994e6c70cad"
      },
      "source": [
        "\n",
        "# Create the model\n",
        "model = Sequential()\n",
        "\n",
        "\n",
        "model.add(keras.layers.Flatten(input_shape=(28, 28)))    #flattens the 28X28 image into 784 element array\n",
        "\n",
        "model.add(Dense(512, activation='relu', input_shape=(784,)))\n",
        "\n",
        "model.add(Dense(512, activation='relu'))\n",
        "model.add(Dropout(0.5))\n",
        "\n",
        "model.add(Dense(num_classes, activation='softmax'))\n",
        "\n",
        "      \n",
        "# for l in model.layers:\n",
        "#     print (l.name, l.input_shape,'==>',l.output_shape)\n",
        "# print()\n",
        "# print (model.summary())"
      ],
      "execution_count": null,
      "outputs": [
        {
          "output_type": "stream",
          "text": [
            "flatten_2 (None, 28, 28) ==> (None, 784)\n",
            "dense_4 (None, 784) ==> (None, 512)\n",
            "dense_5 (None, 512) ==> (None, 512)\n",
            "dropout_2 (None, 512) ==> (None, 512)\n",
            "dense_6 (None, 512) ==> (None, 10)\n",
            "\n",
            "Model: \"sequential_2\"\n",
            "_________________________________________________________________\n",
            "Layer (type)                 Output Shape              Param #   \n",
            "=================================================================\n",
            "flatten_2 (Flatten)          (None, 784)               0         \n",
            "_________________________________________________________________\n",
            "dense_4 (Dense)              (None, 512)               401920    \n",
            "_________________________________________________________________\n",
            "dense_5 (Dense)              (None, 512)               262656    \n",
            "_________________________________________________________________\n",
            "dropout_2 (Dropout)          (None, 512)               0         \n",
            "_________________________________________________________________\n",
            "dense_6 (Dense)              (None, 10)                5130      \n",
            "=================================================================\n",
            "Total params: 669,706\n",
            "Trainable params: 669,706\n",
            "Non-trainable params: 0\n",
            "_________________________________________________________________\n",
            "None\n"
          ],
          "name": "stdout"
        }
      ]
    },
    {
      "cell_type": "code",
      "metadata": {
        "id": "lP3lmb7M8_b6",
        "outputId": "e1dcf0aa-3da9-45f9-a777-db3ec977babf"
      },
      "source": [
        "# Compile model\n",
        "epochs = 2\n",
        "lrate = 0.01\n",
        "#decay = lrate/epochs\n",
        "          \n",
        "#sgd = SGD(lr=lrate, momentum=0.9, decay=decay, nesterov=False)\n",
        "\n",
        "model.compile(loss='categorical_crossentropy', optimizer='adam', metrics=['accuracy'] , )\n",
        "model.summary()\n",
        "\n",
        "\n",
        "# Fit the model\n",
        "\n",
        "early_stopping = EarlyStopping(monitor='val_acc', patience=2, verbose=1, mode='auto')\n",
        "# early_stopping = EarlyStopping(monitor='val_accuracy',patience=5,baseline=0.90,min_delta=0.1)\n",
        "callback_list = [early_stopping]# [stats, early_stopping]\n",
        "\n",
        "model.fit(X_train, y_train, validation_data=(X_test, y_test), epochs=epochs, batch_size=32 , callbacks=callback_list)\n",
        "# Final evaluation of the model\n",
        "scores = model.evaluate(X_test, y_test, verbose=0)\n",
        "print(\"Accuracy: %.2f%%\" % (scores[1]*100))"
      ],
      "execution_count": null,
      "outputs": [
        {
          "output_type": "stream",
          "text": [
            "Model: \"sequential_2\"\n",
            "_________________________________________________________________\n",
            "Layer (type)                 Output Shape              Param #   \n",
            "=================================================================\n",
            "flatten_2 (Flatten)          (None, 784)               0         \n",
            "_________________________________________________________________\n",
            "dense_4 (Dense)              (None, 512)               401920    \n",
            "_________________________________________________________________\n",
            "dense_5 (Dense)              (None, 512)               262656    \n",
            "_________________________________________________________________\n",
            "dropout_2 (Dropout)          (None, 512)               0         \n",
            "_________________________________________________________________\n",
            "dense_6 (Dense)              (None, 10)                5130      \n",
            "=================================================================\n",
            "Total params: 669,706\n",
            "Trainable params: 669,706\n",
            "Non-trainable params: 0\n",
            "_________________________________________________________________\n",
            "Train on 60000 samples, validate on 10000 samples\n",
            "Epoch 1/2\n",
            "60000/60000 [==============================] - 21s 346us/step - loss: 0.4989 - accuracy: 0.8193 - val_loss: 0.4459 - val_accuracy: 0.8399\n",
            "Epoch 2/2\n",
            "  352/60000 [..............................] - ETA: 23s - loss: 0.3770 - accuracy: 0.840"
          ],
          "name": "stdout"
        },
        {
          "output_type": "stream",
          "text": [
            "d:\\Anaconda3\\lib\\site-packages\\keras\\callbacks\\callbacks.py:846: RuntimeWarning: Early stopping conditioned on metric `val_acc` which is not available. Available metrics are: val_loss,val_accuracy,loss,accuracy\n",
            "  (self.monitor, ','.join(list(logs.keys()))), RuntimeWarning\n"
          ],
          "name": "stderr"
        },
        {
          "output_type": "stream",
          "text": [
            "60000/60000 [==============================] - 20s 341us/step - loss: 0.3752 - accuracy: 0.8631 - val_loss: 0.3872 - val_accuracy: 0.8596\n",
            "Accuracy: 85.96%\n"
          ],
          "name": "stdout"
        }
      ]
    },
    {
      "cell_type": "code",
      "metadata": {
        "id": "RW2ptzsC8_b7"
      },
      "source": [
        "# Saving models"
      ],
      "execution_count": null,
      "outputs": []
    },
    {
      "cell_type": "code",
      "metadata": {
        "id": "-8mRiB5leukx"
      },
      "source": [
        "model.save('fashionMnist.h5')"
      ],
      "execution_count": null,
      "outputs": []
    },
    {
      "cell_type": "code",
      "metadata": {
        "id": "ywM0yEjG8_b7"
      },
      "source": [
        "from keras.models import load_model\n",
        "model1 = load_model('fashionMnist.h5')"
      ],
      "execution_count": null,
      "outputs": []
    },
    {
      "cell_type": "code",
      "metadata": {
        "id": "Zmha6Qum8_b7"
      },
      "source": [
        "model.save_weights('fashionMnist_weights.h5')"
      ],
      "execution_count": null,
      "outputs": []
    },
    {
      "cell_type": "markdown",
      "metadata": {
        "id": "3SMsDkA68_b7"
      },
      "source": [
        "if the model architecture is same as source, just load the weights\n",
        "\n",
        "model3 = make_model()  # assuming we have a function to create the architecture\n",
        "model3.load_weights('fashionMnist_weights.h5')"
      ]
    },
    {
      "cell_type": "code",
      "metadata": {
        "id": "sMdooUpVeuk1"
      },
      "source": [
        "import yaml\n",
        "from keras.models import model_from_yaml"
      ],
      "execution_count": null,
      "outputs": []
    },
    {
      "cell_type": "code",
      "metadata": {
        "id": "HQOroHeN8_b8"
      },
      "source": [
        "filename = 'fashionMnist.yaml'\n",
        "yaml_string = model.to_yaml()\n",
        "with open(filename, 'w') as outfile:\n",
        "    yaml.dump(yaml_string, outfile)"
      ],
      "execution_count": null,
      "outputs": []
    },
    {
      "cell_type": "code",
      "metadata": {
        "id": "wrU-bQ2D8_b8"
      },
      "source": [
        "filename = 'fashionMnist.yaml'\n",
        "\n",
        "with open(filename) as yaml_data:\n",
        "    yaml_string = yaml.load(yaml_data)\n",
        "\n",
        "model = model_from_yaml(yaml_string)"
      ],
      "execution_count": null,
      "outputs": []
    }
  ]
}